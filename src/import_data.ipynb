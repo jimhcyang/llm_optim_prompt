{
 "cells": [
  {
   "cell_type": "code",
   "execution_count": 4,
   "id": "bf5a6d7e",
   "metadata": {},
   "outputs": [],
   "source": [
    "import pandas as pd\n",
    "import os"
   ]
  },
  {
   "cell_type": "code",
   "execution_count": 5,
   "id": "9f88f45c",
   "metadata": {},
   "outputs": [
    {
     "data": {
      "text/html": [
       "<div>\n",
       "<style scoped>\n",
       "    .dataframe tbody tr th:only-of-type {\n",
       "        vertical-align: middle;\n",
       "    }\n",
       "\n",
       "    .dataframe tbody tr th {\n",
       "        vertical-align: top;\n",
       "    }\n",
       "\n",
       "    .dataframe thead th {\n",
       "        text-align: right;\n",
       "    }\n",
       "</style>\n",
       "<table border=\"1\" class=\"dataframe\">\n",
       "  <thead>\n",
       "    <tr style=\"text-align: right;\">\n",
       "      <th></th>\n",
       "      <th>natural_language_query</th>\n",
       "      <th>sql_query</th>\n",
       "    </tr>\n",
       "  </thead>\n",
       "  <tbody>\n",
       "    <tr>\n",
       "      <th>277</th>\n",
       "      <td>i also need service from dallas to boston arri...</td>\n",
       "      <td>SELECT DISTINCT flight_1.flight_id FROM flight...</td>\n",
       "    </tr>\n",
       "  </tbody>\n",
       "</table>\n",
       "</div>"
      ],
      "text/plain": [
       "                                natural_language_query  \\\n",
       "277  i also need service from dallas to boston arri...   \n",
       "\n",
       "                                             sql_query  \n",
       "277  SELECT DISTINCT flight_1.flight_id FROM flight...  "
      ]
     },
     "execution_count": 5,
     "metadata": {},
     "output_type": "execute_result"
    }
   ],
   "source": [
    "train_path = \"split_data/train.csv\"\n",
    "test_path = \"split_data/test.csv\"\n",
    "\n",
    "df_train = pd.read_csv(train_path)\n",
    "df_train.sample(5)\n",
    "\n",
    "df_test = pd.read_csv(test_path)\n",
    "df_test.sample(1)"
   ]
  },
  {
   "cell_type": "code",
   "execution_count": 6,
   "id": "417bb42b",
   "metadata": {},
   "outputs": [],
   "source": [
    "df_prompt = df_train.sample(3)\n",
    "df_test_in = df_test.sample(1)"
   ]
  },
  {
   "cell_type": "code",
   "execution_count": 7,
   "id": "94e2981b",
   "metadata": {},
   "outputs": [
    {
     "name": "stdout",
     "output_type": "stream",
     "text": [
      "\n",
      "You are a strict SQL translator. \n",
      "\n",
      "You MUST ONLY output a single SQL query. \n",
      "\n",
      "You are NOT allowed to repeat the instructions, the examples, or any natural language text. \n",
      "\n",
      "You CANNOT explain anything. \n",
      "\n",
      "You MUST copy the style of the EXAMPLES exactly.\n",
      "\n",
      "Respond ONLY with the SQL query.\n",
      "\n",
      "---\n",
      "\n",
      "[EXAMPLE NL QUESTION 1] i am interested in a flight on american airlines from dallas to washington\n",
      "[EXAMPLE SQL PROMPT 1] SELECT DISTINCT flight_1.flight_id FROM flight flight_1 , airport_service airport_service_1 , city city_1 , airport_service airport_service_2 , city city_2 WHERE flight_1.airline_code = 'AA' AND ( flight_1.from_airport = airport_service_1.airport_code AND airport_service_1.city_code = city_1.city_code AND city_1.city_name = 'DALLAS' AND flight_1.to_airport = airport_service_2.airport_code AND airport_service_2.city_code = city_2.city_code AND city_2.city_name = 'WASHINGTON' )\n",
      "\n",
      "[EXAMPLE NL QUESTION 2] what transportation is available from the dallas airport to downtown\n",
      "[EXAMPLE SQL PROMPT 2] SELECT DISTINCT ground_service_1.transport_type FROM ground_service ground_service_1 , airport airport_1 , airport_service airport_service_1 , city city_1 , city city_2 WHERE ground_service_1.airport_code = airport_1.airport_code AND airport_1.airport_code = airport_service_1.airport_code AND airport_service_1.city_code = city_1.city_code AND city_1.city_name = 'DALLAS' AND ground_service_1.city_code = city_2.city_code AND city_2.city_name = 'DALLAS'\n",
      "\n",
      "[EXAMPLE NL QUESTION 3] what is the earliest flight from boston to dallas fort worth leaving august eighth\n",
      "[EXAMPLE SQL PROMPT 3] SELECT DISTINCT flight_1.flight_id FROM flight flight_1 , airport_service airport_service_1 , city city_1 , airport_service airport_service_2 , city city_2 , airport_service airport_service_3 , city city_3 , days days_1 , date_day date_day_1 WHERE flight_1.departure_time = ( SELECT MIN ( flight_1.departure_time ) FROM flight flight_1 , airport_service airport_service_1 , city city_1 , airport_service airport_service_2 , city city_2 , airport_service airport_service_3 , city city_3 , days days_1 , date_day date_day_1 WHERE flight_1.from_airport = airport_service_1.airport_code AND airport_service_1.city_code = city_1.city_code AND city_1.city_name = 'BOSTON' AND ( flight_1.to_airport = airport_service_2.airport_code AND airport_service_2.city_code = city_2.city_code AND city_2.city_name = 'DALLAS' AND flight_1.to_airport = airport_service_3.airport_code AND airport_service_3.city_code = city_3.city_code AND city_3.city_name = 'FORT WORTH' ) AND flight_1.flight_days = days_1.days_code AND days_1.day_name = date_day_1.day_name AND date_day_1.year = 1991 AND date_day_1.month_number = 8 AND date_day_1.day_number = 8 ) AND ( ( flight_1.from_airport = airport_service_1.airport_code AND airport_service_1.city_code = city_1.city_code AND city_1.city_name = 'BOSTON' AND ( flight_1.to_airport = airport_service_2.airport_code AND airport_service_2.city_code = city_2.city_code AND city_2.city_name = 'DALLAS' AND flight_1.to_airport = airport_service_3.airport_code AND airport_service_3.city_code = city_3.city_code AND city_3.city_name = 'FORT WORTH' ) ) AND flight_1.flight_days = days_1.days_code AND days_1.day_name = date_day_1.day_name AND date_day_1.year = 1991 AND date_day_1.month_number = 8 AND date_day_1.day_number = 8 )\n",
      "\n",
      "[NL QUESTION] what is the schedule of ground transportation from washington airport into downtown\n",
      "[SQL PROMPT] \n"
     ]
    }
   ],
   "source": [
    "input_str = \"\"\n",
    "for i in range(len(df_prompt)):\n",
    "    input_str += f\"[EXAMPLE NL QUESTION {i+1}] \"\n",
    "    input_str += df_prompt.iloc[i][\"natural_language_query\"]\n",
    "    input_str += \"\\n\"\n",
    "    input_str += f\"[EXAMPLE SQL PROMPT {i+1}] \"\n",
    "    input_str += df_prompt.iloc[i][\"sql_query\"]\n",
    "    input_str += \"\\n\\n\"\n",
    "\n",
    "input_str += f\"[NL QUESTION] \"\n",
    "input_str += df_test_in.iloc[0][\"natural_language_query\"]\n",
    "input_str += f\"\\n[SQL PROMPT] \"\n",
    "input_str = \"\"\"\n",
    "You are a strict SQL translator. \\n\n",
    "You MUST ONLY output a single SQL query. \\n\n",
    "You are NOT allowed to repeat the instructions, the examples, or any natural language text. \\n\n",
    "You CANNOT explain anything. \\n\n",
    "You MUST copy the style of the EXAMPLES exactly.\n",
    "\n",
    "Respond ONLY with the SQL query.\n",
    "\\n---\\n\n",
    "\"\"\" + input_str\n",
    "\n",
    "\n",
    "print(input_str)"
   ]
  },
  {
   "cell_type": "code",
   "execution_count": 9,
   "id": "51577e9b",
   "metadata": {},
   "outputs": [],
   "source": [
    "cur_dir = os.getcwd()\n",
    "\n",
    "model_path = '../CHAT_MODEL/'\n",
    "os.chdir(model_path)\n",
    "\n",
    "from chat import main\n",
    "\n",
    "os.chdir(cur_dir)"
   ]
  },
  {
   "cell_type": "code",
   "execution_count": 10,
   "id": "661fd5cd",
   "metadata": {},
   "outputs": [
    {
     "name": "stdout",
     "output_type": "stream",
     "text": [
      "[WARNING] Could not fetch short summary: name 'model_name' is not defined\n",
      "\n",
      "[User]\n",
      "You are a strict SQL translator. \n",
      "\n",
      "You MUST ONLY output a single SQL query. \n",
      "\n",
      "You are NOT allowed to repeat the instructions, the examples, or any natural language text. \n",
      "\n",
      "You CANNOT explain anything. \n",
      "\n",
      "You MUST copy the style of the EXAMPLES exactly.\n",
      "\n",
      "Respond ONLY with the SQL query.\n",
      "\n",
      "---\n",
      "\n",
      "[EXAMPLE NL QUESTION 1] i am interested in a flight on american airlines from dallas to washington\n",
      "[EXAMPLE SQL PROMPT 1] SELECT DISTINCT flight_1.flight_id FROM flight flight_1 , airport_service airport_service_1 , city city_1 , airport_service airport_service_2 , city city_2 WHERE flight_1.airline_code = 'AA' AND ( flight_1.from_airport = airport_service_1.airport_code AND airport_service_1.city_code = city_1.city_code AND city_1.city_name = 'DALLAS' AND flight_1.to_airport = airport_service_2.airport_code AND airport_service_2.city_code = city_2.city_code AND city_2.city_name = 'WASHINGTON' )\n",
      "\n",
      "[EXAMPLE NL QUESTION 2] what transportation is available from the dallas airport to downtown\n",
      "[EXAMPLE SQL PROMPT 2] SELECT DISTINCT ground_service_1.transport_type FROM ground_service ground_service_1 , airport airport_1 , airport_service airport_service_1 , city city_1 , city city_2 WHERE ground_service_1.airport_code = airport_1.airport_code AND airport_1.airport_code = airport_service_1.airport_code AND airport_service_1.city_code = city_1.city_code AND city_1.city_name = 'DALLAS' AND ground_service_1.city_code = city_2.city_code AND city_2.city_name = 'DALLAS'\n",
      "\n",
      "[EXAMPLE NL QUESTION 3] what is the earliest flight from boston to dallas fort worth leaving august eighth\n",
      "[EXAMPLE SQL PROMPT 3] SELECT DISTINCT flight_1.flight_id FROM flight flight_1 , airport_service airport_service_1 , city city_1 , airport_service airport_service_2 , city city_2 , airport_service airport_service_3 , city city_3 , days days_1 , date_day date_day_1 WHERE flight_1.departure_time = ( SELECT MIN ( flight_1.departure_time ) FROM flight flight_1 , airport_service airport_service_1 , city city_1 , airport_service airport_service_2 , city city_2 , airport_service airport_service_3 , city city_3 , days days_1 , date_day date_day_1 WHERE flight_1.from_airport = airport_service_1.airport_code AND airport_service_1.city_code = city_1.city_code AND city_1.city_name = 'BOSTON' AND ( flight_1.to_airport = airport_service_2.airport_code AND airport_service_2.city_code = city_2.city_code AND city_2.city_name = 'DALLAS' AND flight_1.to_airport = airport_service_3.airport_code AND airport_service_3.city_code = city_3.city_code AND city_3.city_name = 'FORT WORTH' ) AND flight_1.flight_days = days_1.days_code AND days_1.day_name = date_day_1.day_name AND date_day_1.year = 1991 AND date_day_1.month_number = 8 AND date_day_1.day_number = 8 ) AND ( ( flight_1.from_airport = airport_service_1.airport_code AND airport_service_1.city_code = city_1.city_code AND city_1.city_name = 'BOSTON' AND ( flight_1.to_airport = airport_service_2.airport_code AND airport_service_2.city_code = city_2.city_code AND city_2.city_name = 'DALLAS' AND flight_1.to_airport = airport_service_3.airport_code AND airport_service_3.city_code = city_3.city_code AND city_3.city_name = 'FORT WORTH' ) ) AND flight_1.flight_days = days_1.days_code AND days_1.day_name = date_day_1.day_name AND date_day_1.year = 1991 AND date_day_1.month_number = 8 AND date_day_1.day_number = 8 )\n",
      "\n",
      "[NL QUESTION] what is the schedule of ground transportation from washington airport into downtown\n",
      "[SQL PROMPT]\n",
      "\n",
      "[Model - llama3.2:1b]\n",
      "SELECT DISTINCT ground_service_1.transport_type FROM ground_service , airport airport_1 , airport_service airport_service_1 , city city_1 , city city_2 WHERE ground_service_1.airport_code = airport_1.airport_code AND airport_1.airport_code = airport_service_1.airport_code AND airport_service_1.city_code = city_1.city_code AND city_1.city_name = 'WAS' AND ground_service_1.city_code = city_2.city_code AND city_2.city_name = 'DNT'\n",
      "\n",
      "[SUCCESS] Chat saved to: /home/prompt5398/LLM/CHAT_MODEL/chat_logs/NEW_CHAT_llama3.2:1b_20250425_171457.txt\n"
     ]
    }
   ],
   "source": [
    "main(model_name=\"llama3.2:1b\", prompt= input_str)"
   ]
  },
  {
   "cell_type": "code",
   "execution_count": 10,
   "id": "d8c6aafe",
   "metadata": {},
   "outputs": [
    {
     "data": {
      "text/plain": [
       "'please list the flight times from newark to boston'"
      ]
     },
     "execution_count": 10,
     "metadata": {},
     "output_type": "execute_result"
    }
   ],
   "source": [
    "df_test_in.iloc[0,0]"
   ]
  },
  {
   "cell_type": "code",
   "execution_count": null,
   "id": "3f8d6b4e",
   "metadata": {},
   "outputs": [
    {
     "name": "stdout",
     "output_type": "stream",
     "text": [
      "86 SELECT DISTINCT flight_1.flight_id FROM flight flight_1 , airport_service airport_service_1 , city city_1 , airport_service airport_service_2 , city city_2 , days days_1 , date_day date_day_1 WHERE flight_1.departure_time BETWEEN 0 AND 800 AND ( flight_1.stops = 0 AND ( flight_1.from_airport = airport_service_1.airport_code AND airport_service_1.city_code = city_1.city_code AND city_1.city_name = 'NEW YORK' AND ( flight_1.to_airport = airport_service_2.airport_code AND airport_service_2.city_code = city_2.city_code AND city_2.city_name = 'LAS VEGAS' AND flight_1.flight_days = days_1.days_code AND days_1.day_name = date_day_1.day_name AND date_day_1.year = 1991 AND date_day_1.month_number = 2 AND date_day_1.day_number = 28 ) ) )\n"
     ]
    }
   ],
   "source": [
    "len_sql_list = [len(s.split()) for s in atis_df.sql_query]\n",
    "\n",
    "import numpy as np\n",
    "k = 25\n",
    "tops_ind = np.argpartition(len_sql_list, k)[-k:]\n",
    "for ind in tops_ind:\n",
    "    print(len_sql_list[ind], atis_df.sql_query[ind])"
   ]
  },
  {
   "cell_type": "code",
   "execution_count": 14,
   "id": "227597bc",
   "metadata": {},
   "outputs": [
    {
     "ename": "ImportError",
     "evalue": "cannot import name 'run_sql_comparison_pipeline' from 'database' (/home/prompt5398/LLM/src/database.py)",
     "output_type": "error",
     "traceback": [
      "\u001b[0;31m---------------------------------------------------------------------------\u001b[0m",
      "\u001b[0;31mImportError\u001b[0m                               Traceback (most recent call last)",
      "Cell \u001b[0;32mIn[14], line 1\u001b[0m\n\u001b[0;32m----> 1\u001b[0m \u001b[38;5;28;01mfrom\u001b[39;00m\u001b[38;5;250m \u001b[39m\u001b[38;5;21;01mdatabase\u001b[39;00m\u001b[38;5;250m \u001b[39m\u001b[38;5;28;01mimport\u001b[39;00m run_sql_comparison_pipeline\n\u001b[1;32m      4\u001b[0m \u001b[38;5;66;03m# Replace these with your actual queries\u001b[39;00m\n\u001b[1;32m      5\u001b[0m query1 \u001b[38;5;241m=\u001b[39m \u001b[38;5;124m\"\u001b[39m\u001b[38;5;124mSELECT DISTINCT flight_id FROM flight LIMIT 10;\u001b[39m\u001b[38;5;124m\"\u001b[39m\n",
      "\u001b[0;31mImportError\u001b[0m: cannot import name 'run_sql_comparison_pipeline' from 'database' (/home/prompt5398/LLM/src/database.py)"
     ]
    }
   ],
   "source": [
    "from database import run_sql_comparison_pipeline\n",
    "\n",
    "\n",
    "# Replace these with your actual queries\n",
    "query1 = \"SELECT DISTINCT flight_id FROM flight LIMIT 10;\"\n",
    "query2 = \"SELECT DISTINCT flight_id FROM flight LIMIT 10;\"\n",
    "    \n",
    "run_sql_comparison_pipeline(query1, query2)"
   ]
  },
  {
   "cell_type": "code",
   "execution_count": 15,
   "id": "1eeb7fde",
   "metadata": {},
   "outputs": [],
   "source": [
    "from database import *"
   ]
  }
 ],
 "metadata": {
  "kernelspec": {
   "display_name": "llmvenv",
   "language": "python",
   "name": "python3"
  },
  "language_info": {
   "codemirror_mode": {
    "name": "ipython",
    "version": 3
   },
   "file_extension": ".py",
   "mimetype": "text/x-python",
   "name": "python",
   "nbconvert_exporter": "python",
   "pygments_lexer": "ipython3",
   "version": "3.8.10"
  }
 },
 "nbformat": 4,
 "nbformat_minor": 5
}
